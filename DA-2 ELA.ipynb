{
 "cells": [
  {
   "cell_type": "markdown",
   "id": "18ae0314",
   "metadata": {},
   "source": [
    "# Digital Assignment - 2 \n",
    "\n",
    "# K Mohan Datta\n",
    "# 20MID0012\n",
    "# L43+L44"
   ]
  },
  {
   "cell_type": "markdown",
   "id": "16d710a0",
   "metadata": {},
   "source": [
    "<b>Write a python code to classify the input digit as ‘9’ or not. Use MNIST data set. Also display\n",
    "the sample image and print the performance measure of SDC classifier.</b>"
   ]
  },
  {
   "cell_type": "code",
   "execution_count": null,
   "id": "662f05ac",
   "metadata": {},
   "outputs": [
    {
     "data": {
      "text/plain": [
       "dict_keys(['data', 'target', 'frame', 'categories', 'feature_names', 'target_names', 'DESCR', 'details', 'url'])"
      ]
     },
     "execution_count": 131,
     "metadata": {},
     "output_type": "execute_result"
    }
   ],
   "source": [
    "from sklearn.datasets import fetch_openml\n",
    "import numpy as np\n",
    "import pandas as pd\n",
    "mnist = fetch_openml('mnist_784',version=1)\n",
    "print(mnist.keys())"
   ]
  },
  {
   "cell_type": "code",
   "execution_count": null,
   "id": "15087684",
   "metadata": {},
   "outputs": [
    {
     "data": {
      "text/plain": [
       "(70000, 784)"
      ]
     },
     "execution_count": 110,
     "metadata": {},
     "output_type": "execute_result"
    }
   ],
   "source": [
    "X,y = mnist['data'],mnist['target']\n",
    "print(X.shape)"
   ]
  },
  {
   "cell_type": "code",
   "execution_count": null,
   "id": "34afd3b7",
   "metadata": {},
   "outputs": [
    {
     "data": {
      "text/plain": [
       "(70000,)"
      ]
     },
     "execution_count": 111,
     "metadata": {},
     "output_type": "execute_result"
    }
   ],
   "source": [
    "print(y.shape)"
   ]
  },
  {
   "cell_type": "code",
   "execution_count": 112,
   "id": "950e7e9d",
   "metadata": {},
   "outputs": [
    {
     "data": {
      "image/png": "[encoded data removed]",
      "text/plain": [
       "<Figure size 640x480 with 1 Axes>"
      ]
     },
     "metadata": {},
     "output_type": "display_data"
    }
   ],
   "source": [
    "import matplotlib as mpl\n",
    "import matplotlib.pyplot as plt\n",
    "\n",
    "some_digit = X.values[4]\n",
    "some_digit_image = some_digit.reshape(28,28)\n",
    "\n",
    "plt.imshow(some_digit_image, cmap = mpl.cm.binary, interpolation = \"nearest\")\n",
    "plt.axis(\"off\")\n",
    "plt.show()"
   ]
  },
  {
   "cell_type": "code",
   "execution_count": null,
   "id": "242b03b3",
   "metadata": {},
   "outputs": [
    {
     "data": {
      "text/plain": [
       "'9'"
      ]
     },
     "execution_count": 113,
     "metadata": {},
     "output_type": "execute_result"
    }
   ],
   "source": [
    "print(y[4])"
   ]
  },
  {
   "cell_type": "code",
   "execution_count": null,
   "id": "3bc045f6",
   "metadata": {},
   "outputs": [
    {
     "data": {
      "text/plain": [
       "0        5\n",
       "1        0\n",
       "2        4\n",
       "3        1\n",
       "4        9\n",
       "        ..\n",
       "69995    2\n",
       "69996    3\n",
       "69997    4\n",
       "69998    5\n",
       "69999    6\n",
       "Name: class, Length: 70000, dtype: uint8"
      ]
     },
     "execution_count": 114,
     "metadata": {},
     "output_type": "execute_result"
    }
   ],
   "source": [
    "y=y.astype(np.uint8)\n",
    "print(y)"
   ]
  },
  {
   "cell_type": "code",
   "execution_count": 115,
   "id": "d55ea268",
   "metadata": {},
   "outputs": [],
   "source": [
    "X_train,X_test,y_train,y_test = X[:60000].values,X[60000:].values,y[:60000],y[60000:]"
   ]
  },
  {
   "cell_type": "code",
   "execution_count": 116,
   "id": "037330bb",
   "metadata": {},
   "outputs": [
    {
     "name": "stdout",
     "output_type": "stream",
     "text": [
      "False\n"
     ]
    }
   ],
   "source": [
    "y_train_9 = (y_train==9).values# True for all 5s, False for all other digits.\n",
    "y_test_9 = (y_test ==9).values\n",
    "print(y_train_9[0])"
   ]
  },
  {
   "cell_type": "code",
   "execution_count": 117,
   "id": "d5629748",
   "metadata": {},
   "outputs": [],
   "source": [
    "from sklearn.linear_model import SGDClassifier\n",
    "\n",
    "sgd_clf = SGDClassifier(random_state = 42)\n",
    "sgd_clf.fit(X_train,y_train_9)\n",
    "some_digit = [9]\n",
    "p = sgd_clf.predict(X_test)"
   ]
  },
  {
   "cell_type": "code",
   "execution_count": 118,
   "id": "33bbad98",
   "metadata": {},
   "outputs": [
    {
     "name": "stdout",
     "output_type": "stream",
     "text": [
      "9476\n"
     ]
    }
   ],
   "source": [
    "count=0\n",
    "i=0\n",
    "for x in X_test:\n",
    "    if(sgd_clf.predict(x.reshape(1,-1))==y_test_9[i]):\n",
    "        count=count+1\n",
    "    i=i+1\n",
    "print(count)"
   ]
  },
  {
   "cell_type": "code",
   "execution_count": 119,
   "id": "24140a13",
   "metadata": {},
   "outputs": [],
   "source": [
    "from sklearn.model_selection import StratifiedKFold\n",
    "from sklearn.base import clone\n",
    "skfolds  = StratifiedKFold(n_splits=3)\n",
    "sk_splits = skfolds.split(X_train,y_train_9)"
   ]
  },
  {
   "cell_type": "code",
   "execution_count": 120,
   "id": "26902c23",
   "metadata": {},
   "outputs": [
    {
     "name": "stdout",
     "output_type": "stream",
     "text": [
      "0.9456\n",
      "0.95195\n",
      "0.9509\n"
     ]
    }
   ],
   "source": [
    "for train_index,test_index in sk_splits:\n",
    "    clone_clf=clone(sgd_clf)\n",
    "    X_train_folds = X_train[train_index]\n",
    "    y_train_folds = y_train_9[train_index]\n",
    "    X_test_fold = X_train[test_index]\n",
    "    y_test_fold = y_train_9[test_index]\n",
    "    clone_clf.fit(X_train_folds,y_train_folds)\n",
    "    y_pred = clone_clf.predict(X_test_fold)\n",
    "    n_correct = sum(y_pred == y_test_fold)\n",
    "    print(n_correct/len(y_pred))"
   ]
  },
  {
   "cell_type": "code",
   "execution_count": 121,
   "id": "3233175b",
   "metadata": {},
   "outputs": [
    {
     "data": {
      "text/plain": [
       "array([0.94783333, 0.93491667, 0.94208333, 0.94983333, 0.95175   ])"
      ]
     },
     "execution_count": 121,
     "metadata": {},
     "output_type": "execute_result"
    }
   ],
   "source": [
    "from sklearn.model_selection import cross_val_score\n",
    "cross_val_score(sgd_clf,X_train,y_train_9,cv=5,scoring='accuracy')"
   ]
  },
  {
   "cell_type": "code",
   "execution_count": 122,
   "id": "3c9042ff",
   "metadata": {},
   "outputs": [],
   "source": [
    "from sklearn.model_selection import cross_val_predict\n",
    "y_train_pred = cross_val_predict(sgd_clf,X_train,y_train_9,cv=3)"
   ]
  },
  {
   "cell_type": "code",
   "execution_count": 123,
   "id": "43d8aecb",
   "metadata": {},
   "outputs": [
    {
     "data": {
      "text/plain": [
       "array([[52715,  1336],\n",
       "       [ 1695,  4254]], dtype=int64)"
      ]
     },
     "execution_count": 123,
     "metadata": {},
     "output_type": "execute_result"
    }
   ],
   "source": [
    "from sklearn.metrics import confusion_matrix\n",
    "confusion_matrix(y_train_9,y_train_pred)"
   ]
  },
  {
   "cell_type": "code",
   "execution_count": null,
   "id": "f6ce1283",
   "metadata": {},
   "outputs": [
    {
     "name": "stdout",
     "output_type": "stream",
     "text": [
      "Precision: \n",
      "0.7610017889087657\n",
      "Recall: \n",
      "0.7150781643973777\n",
      "F1-Score: \n"
     ]
    },
    {
     "data": {
      "text/plain": [
       "0.737325591472398"
      ]
     },
     "execution_count": 74,
     "metadata": {},
     "output_type": "execute_result"
    }
   ],
   "source": [
    "from sklearn.metrics import precision_score, recall_score, f1_score\n",
    "\n",
    "print('Precision: ')\n",
    "print(precision_score(y_train_9,y_train_pred))\n",
    "print('Recall: ')\n",
    "print(recall_score(y_train_9,y_train_pred))\n",
    "print('F1-Score: ')\n",
    "print(f1_score(y_train_9,y_train_pred))"
   ]
  },
  {
   "cell_type": "markdown",
   "id": "46661831",
   "metadata": {},
   "source": [
    "<b>Perform the following Regression for synthetic dataset. Split the dataset as 80, 20. Use 20%for testing and print the MSE. Tabulate the results and write its inference.</b>\n",
    "\n",
    "# Rigid Regression && Lasso Regression"
   ]
  },
  {
   "cell_type": "code",
   "execution_count": 124,
   "id": "70cf5db4",
   "metadata": {},
   "outputs": [],
   "source": [
    "import numpy as np\n",
    "from sklearn.datasets import make_regression\n",
    "from sklearn.model_selection import train_test_split\n",
    "from sklearn.linear_model import Ridge, Lasso\n",
    "from sklearn.metrics import mean_squared_error\n"
   ]
  },
  {
   "cell_type": "code",
   "execution_count": null,
   "id": "df007ed5",
   "metadata": {},
   "outputs": [
    {
     "data": {
      "text/html": [
       "<div>\n",
       "<style scoped>\n",
       "    .dataframe tbody tr th:only-of-type {\n",
       "        vertical-align: middle;\n",
       "    }\n",
       "\n",
       "    .dataframe tbody tr th {\n",
       "        vertical-align: top;\n",
       "    }\n",
       "\n",
       "    .dataframe thead th {\n",
       "        text-align: right;\n",
       "    }\n",
       "</style>\n",
       "<table border=\"1\" class=\"dataframe\">\n",
       "  <thead>\n",
       "    <tr style=\"text-align: right;\">\n",
       "      <th></th>\n",
       "      <th>0</th>\n",
       "      <th>1</th>\n",
       "      <th>2</th>\n",
       "      <th>3</th>\n",
       "      <th>4</th>\n",
       "      <th>5</th>\n",
       "      <th>6</th>\n",
       "      <th>7</th>\n",
       "      <th>8</th>\n",
       "      <th>9</th>\n",
       "    </tr>\n",
       "  </thead>\n",
       "  <tbody>\n",
       "    <tr>\n",
       "      <th>0</th>\n",
       "      <td>1.186943</td>\n",
       "      <td>2.253652</td>\n",
       "      <td>-0.019976</td>\n",
       "      <td>-1.418118</td>\n",
       "      <td>1.418761</td>\n",
       "      <td>-0.755570</td>\n",
       "      <td>0.551765</td>\n",
       "      <td>-0.720037</td>\n",
       "      <td>-0.067072</td>\n",
       "      <td>0.891299</td>\n",
       "    </tr>\n",
       "    <tr>\n",
       "      <th>1</th>\n",
       "      <td>-0.318687</td>\n",
       "      <td>-0.171967</td>\n",
       "      <td>-1.553460</td>\n",
       "      <td>-1.653756</td>\n",
       "      <td>1.417785</td>\n",
       "      <td>-0.951088</td>\n",
       "      <td>1.784531</td>\n",
       "      <td>-1.909871</td>\n",
       "      <td>-0.617282</td>\n",
       "      <td>-0.385315</td>\n",
       "    </tr>\n",
       "    <tr>\n",
       "      <th>2</th>\n",
       "      <td>-1.117207</td>\n",
       "      <td>0.401502</td>\n",
       "      <td>-0.810841</td>\n",
       "      <td>-1.168079</td>\n",
       "      <td>0.250983</td>\n",
       "      <td>0.432568</td>\n",
       "      <td>0.102745</td>\n",
       "      <td>0.153688</td>\n",
       "      <td>-0.334524</td>\n",
       "      <td>-1.422257</td>\n",
       "    </tr>\n",
       "    <tr>\n",
       "      <th>3</th>\n",
       "      <td>-0.365307</td>\n",
       "      <td>0.932627</td>\n",
       "      <td>-0.753507</td>\n",
       "      <td>-0.860600</td>\n",
       "      <td>1.464120</td>\n",
       "      <td>0.102073</td>\n",
       "      <td>0.679553</td>\n",
       "      <td>-1.442549</td>\n",
       "      <td>-1.366596</td>\n",
       "      <td>0.350946</td>\n",
       "    </tr>\n",
       "    <tr>\n",
       "      <th>4</th>\n",
       "      <td>-2.445956</td>\n",
       "      <td>-0.084932</td>\n",
       "      <td>-2.346773</td>\n",
       "      <td>-0.898937</td>\n",
       "      <td>-0.512127</td>\n",
       "      <td>1.034778</td>\n",
       "      <td>1.142281</td>\n",
       "      <td>-1.398650</td>\n",
       "      <td>-0.815293</td>\n",
       "      <td>0.458069</td>\n",
       "    </tr>\n",
       "  </tbody>\n",
       "</table>\n",
       "</div>"
      ],
      "text/plain": [
       "          0         1         2         3         4         5         6  \\\n",
       "0  1.186943  2.253652 -0.019976 -1.418118  1.418761 -0.755570  0.551765   \n",
       "1 -0.318687 -0.171967 -1.553460 -1.653756  1.417785 -0.951088  1.784531   \n",
       "2 -1.117207  0.401502 -0.810841 -1.168079  0.250983  0.432568  0.102745   \n",
       "3 -0.365307  0.932627 -0.753507 -0.860600  1.464120  0.102073  0.679553   \n",
       "4 -2.445956 -0.084932 -2.346773 -0.898937 -0.512127  1.034778  1.142281   \n",
       "\n",
       "          7         8         9  \n",
       "0 -0.720037 -0.067072  0.891299  \n",
       "1 -1.909871 -0.617282 -0.385315  \n",
       "2  0.153688 -0.334524 -1.422257  \n",
       "3 -1.442549 -1.366596  0.350946  \n",
       "4 -1.398650 -0.815293  0.458069  "
      ]
     },
     "execution_count": 125,
     "metadata": {},
     "output_type": "execute_result"
    }
   ],
   "source": [
    "# Generate synthetic dataset\n",
    "X, y = make_regression(n_samples=100, n_features=10, n_informative=8,n_targets=4)\n",
    "X=pd.DataFrame(X)\n",
    "print(X.head())"
   ]
  },
  {
   "cell_type": "code",
   "execution_count": 126,
   "id": "e6d3b6c9",
   "metadata": {},
   "outputs": [],
   "source": [
    "# Split the data into training and test sets\n",
    "X_train, X_test, y_train, y_test = train_test_split(X, y, test_size=0.2, random_state=42)"
   ]
  },
  {
   "cell_type": "code",
   "execution_count": 127,
   "id": "0fd29c7a",
   "metadata": {},
   "outputs": [
    {
     "name": "stdout",
     "output_type": "stream",
     "text": [
      "Ridge MSE: 3.010349477809376\n"
     ]
    }
   ],
   "source": [
    "# Perform rigid regression\n",
    "ridge = Ridge(alpha=1.0)\n",
    "ridge.fit(X_train, y_train)\n",
    "ridge_pred = ridge.predict(X_test)\n",
    "ridge_mse = mean_squared_error(y_test, ridge_pred)\n",
    "print(\"Ridge MSE:\", ridge_mse)"
   ]
  },
  {
   "cell_type": "code",
   "execution_count": 128,
   "id": "85f5fd36",
   "metadata": {},
   "outputs": [
    {
     "name": "stdout",
     "output_type": "stream",
     "text": [
      "Lasso MSE: 0.11630668176938161\n"
     ]
    }
   ],
   "source": [
    "# Perform Lasso regression\n",
    "lasso = Lasso(alpha=0.1)\n",
    "lasso.fit(X_train, y_train)\n",
    "lasso_pred = lasso.predict(X_test)\n",
    "lasso_mse = mean_squared_error(y_test, lasso_pred)\n",
    "print(\"Lasso MSE:\",lasso_mse)"
   ]
  },
  {
   "cell_type": "code",
   "execution_count": 130,
   "id": "fba76952",
   "metadata": {},
   "outputs": [
    {
     "name": "stdout",
     "output_type": "stream",
     "text": [
      "Ridge MSE: 3.010349477809376\n",
      "Lasso MSE: 0.11630668176938161\n"
     ]
    }
   ],
   "source": [
    "# Print MSE for each model\n",
    "print(\"Ridge MSE:\", ridge_mse)\n",
    "print(\"Lasso MSE:\",lasso_mse)"
   ]
  },
  {
   "cell_type": "markdown",
   "id": "25e85372",
   "metadata": {},
   "source": [
    "From above we can see that for the given generated synthetic data <b>Lasso Regression Model</b> performs better than <b>Ridge Regression Model</b>"
   ]
  }
 ],
 "metadata": {
  "kernelspec": {
   "display_name": "Python 3 (ipykernel)",
   "language": "python",
   "name": "python3"
  },
  "language_info": {
   "codemirror_mode": {
    "name": "ipython",
    "version": 3
   },
   "file_extension": ".py",
   "mimetype": "text/x-python",
   "name": "python",
   "nbconvert_exporter": "python",
   "pygments_lexer": "ipython3",
   "version": "3.9.13"
  }
 },
 "nbformat": 4,
 "nbformat_minor": 5
}
